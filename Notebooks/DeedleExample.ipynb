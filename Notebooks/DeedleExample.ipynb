{
 "metadata": {
  "language": "fsharp",
  "name": ""
 },
 "nbformat": 3,
 "nbformat_minor": 0,
 "worksheets": [
  {
   "cells": [
    {
     "cell_type": "code",
     "collapsed": false,
     "input": [
      "open Deedle"
     ],
     "language": "python",
     "metadata": {},
     "outputs": [],
     "prompt_number": 1
    },
    {
     "cell_type": "code",
     "collapsed": false,
     "input": [
      "// define sample Deedle objects\n",
      "let s = series [ 1 => 2; 2 => 3 ]\n",
      "let f = frame [ \"A\" => series [ 1 => 2; 2 => 3 ]; \"B\" => series [ 2 => 3; 3 => 4 ] ]"
     ],
     "language": "python",
     "metadata": {},
     "outputs": [],
     "prompt_number": 2
    },
    {
     "cell_type": "code",
     "collapsed": false,
     "input": [
      "// print series\n",
      "s"
     ],
     "language": "python",
     "metadata": {},
     "outputs": [
      {
       "html": [
        "<div class='deedleseries'>\n",
        "<table>\n",
        "<thead>\n",
        "<tr class='header'>\n",
        "<th><p>Keys</p></th>\n",
        "<th><p>1</p></th>\n",
        "<th><p>2</p></th>\n",
        "</tr>\n",
        "</thead>\n",
        "<tbody>\n",
        "<tr class='odd'>\n",
        "<td><p>Values</p></td>\n",
        "<td><p>2</p></td>\n",
        "<td><p>3</p></td>\n",
        "</tr>\n",
        "</tbody>\n",
        "</table>\n",
        "</div>\n"
       ],
       "metadata": {},
       "output_type": "pyout",
       "prompt_number": 3
      }
     ],
     "prompt_number": 3
    },
    {
     "cell_type": "code",
     "collapsed": false,
     "input": [
      "// print dataframe\n",
      "f"
     ],
     "language": "python",
     "metadata": {},
     "outputs": [
      {
       "html": [
        "<div class='deedleframe'>\n",
        "<table>\n",
        "<thead>\n",
        "<tr class='header'>\n",
        "<th></th>\n",
        "<th><p>A</p></th>\n",
        "<th><p>B</p></th>\n",
        "</tr>\n",
        "</thead>\n",
        "<tbody>\n",
        "<tr class='odd'>\n",
        "<td><p>1</p></td>\n",
        "<td><p>2</p></td>\n",
        "<td><p>N/A</p></td>\n",
        "</tr>\n",
        "<tr class='even'>\n",
        "<td><p>2</p></td>\n",
        "<td><p>3</p></td>\n",
        "<td><p>3</p></td>\n",
        "</tr>\n",
        "<tr class='odd'>\n",
        "<td><p>3</p></td>\n",
        "<td><p>N/A</p></td>\n",
        "<td><p>4</p></td>\n",
        "</tr>\n",
        "</tbody>\n",
        "</table>\n",
        "</div>\n"
       ],
       "metadata": {},
       "output_type": "pyout",
       "prompt_number": 4
      }
     ],
     "prompt_number": 4
    },
    {
     "cell_type": "code",
     "collapsed": false,
     "input": [
      "Chart.Line(s)"
     ],
     "language": "python",
     "metadata": {},
     "outputs": [
      {
       "metadata": {},
       "output_type": "pyout",
       "png": "[encoded data removed]",
       "prompt_number": 7
      }
     ],
     "prompt_number": 7
    },
    {
     "cell_type": "code",
     "collapsed": false,
     "input": [
      "Chart.Bar(f?B)"
     ],
     "language": "python",
     "metadata": {},
     "outputs": [
      {
       "metadata": {},
       "output_type": "pyout",
       "png": "[encoded data removed]",
       "prompt_number": 9
      }
     ],
     "prompt_number": 9
    }
   ],
   "metadata": {}
  }
 ]
}