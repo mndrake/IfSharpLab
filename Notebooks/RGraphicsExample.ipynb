{
 "metadata": {
  "language": "fsharp",
  "name": ""
 },
 "nbformat": 3,
 "nbformat_minor": 0,
 "worksheets": [
  {
   "cells": [
    {
     "cell_type": "code",
     "collapsed": false,
     "input": [
      "open RProvider\n",
      "open RProvider.``base``\n",
      "open RProvider.graphics\n",
      "\n",
      "let widgets =   [3;8;12;15;19;18;18;20]\n",
      "let sprockets = [5;4;6;7;12;9;5;6]\n",
      "\n",
      "R.plot(widgets,sprockets)"
     ],
     "language": "python",
     "metadata": {},
     "outputs": [
      {
       "jpeg": "[encoded data removed]",
       "metadata": {},
       "output_type": "display_data"
      }
     ],
     "prompt_number": 1
    },
    {
     "cell_type": "code",
     "collapsed": false,
     "input": [],
     "language": "python",
     "metadata": {},
     "outputs": []
    }
   ],
   "metadata": {}
  }
 ]
}